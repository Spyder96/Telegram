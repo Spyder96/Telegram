{
 "cells": [
  {
   "cell_type": "code",
   "execution_count": 6,
   "id": "279aed52-71cf-4572-985a-4009e463a18b",
   "metadata": {},
   "outputs": [],
   "source": [
    "import requests \n",
    "from dotenv import load_dotenv\n",
    "import os"
   ]
  },
  {
   "cell_type": "code",
   "execution_count": 7,
   "id": "a0fb2633-4812-45b2-8924-5f9b376855c0",
   "metadata": {},
   "outputs": [],
   "source": [
    "## Importing Bot token from env file"
   ]
  },
  {
   "cell_type": "code",
   "execution_count": 8,
   "id": "f3cc5360-68cb-4a2e-98c2-80787810cbd4",
   "metadata": {},
   "outputs": [],
   "source": [
    "load_dotenv()\n",
    "TelegramBotCredential=os.environ.get('BOT_TOKEN')\n",
    "ReceiverTelegramID = int(os.environ.get('MY_TELEGRAM_ID'))\n"
   ]
  },
  {
   "cell_type": "code",
   "execution_count": null,
   "id": "9d9230d0-b801-4ce6-990d-d1f0cb37c269",
   "metadata": {},
   "outputs": [],
   "source": []
  },
  {
   "cell_type": "code",
   "execution_count": 9,
   "id": "04c31d52-51a6-4119-b4c6-4b26887a1f6c",
   "metadata": {},
   "outputs": [],
   "source": [
    "\n",
    "def SendMessageToTelegram(Message):\n",
    "    try:\n",
    "        Url = \"https://api.telegram.org/bot\" + str(TelegramBotCredential) +  \"/sendMessage?chat_id=\" + str(ReceiverTelegramID)\n",
    "        \n",
    "        textdata ={ \"text\":Message}\n",
    "        response = requests.request(\"POST\",Url,params=textdata)\n",
    "    except Exception as e:\n",
    "        Message = str(e) + \": Exception occur in SendMessageToTelegram\"\n",
    "        print(Message)  \n",
    "\t\t\n",
    "\t\t\n",
    "def SendTelegramFile(FileName):\n",
    "    Documentfile={'document':open(FileName,'rb')}\n",
    "    \n",
    "    Fileurl = \"https://api.telegram.org/bot\" + str(TelegramBotCredential) +  \"/sendDocument?chat_id=\" + str(ReceiverTelegramID)\n",
    "      \n",
    "    response = requests.request(\"POST\",Fileurl,files=Documentfile)\n",
    "\t\n",
    "\n"
   ]
  },
  {
   "cell_type": "code",
   "execution_count": 5,
   "id": "58ef6f1a-77ba-4bd5-9c08-f35904f4a611",
   "metadata": {},
   "outputs": [],
   "source": [
    "SendMessageToTelegram(\"you are dumb\")"
   ]
  },
  {
   "cell_type": "code",
   "execution_count": null,
   "id": "579d7414-15fe-4708-bba6-c8c71b668115",
   "metadata": {},
   "outputs": [],
   "source": []
  }
 ],
 "metadata": {
  "kernelspec": {
   "display_name": "Python 3 (ipykernel)",
   "language": "python",
   "name": "python3"
  },
  "language_info": {
   "codemirror_mode": {
    "name": "ipython",
    "version": 3
   },
   "file_extension": ".py",
   "mimetype": "text/x-python",
   "name": "python",
   "nbconvert_exporter": "python",
   "pygments_lexer": "ipython3",
   "version": "3.9.12"
  }
 },
 "nbformat": 4,
 "nbformat_minor": 5
}
